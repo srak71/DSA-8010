{
 "cells": [
  {
   "cell_type": "markdown",
   "metadata": {},
   "source": [
    "Q1"
   ]
  },
  {
   "cell_type": "code",
   "execution_count": null,
   "metadata": {},
   "outputs": [],
   "source": [
    "import pandas as pd\n",
    "\n",
    "# Load the data\n",
    "file_path = 'data/ecigarette.csv'\n",
    "data = pd.read_csv(file_path)\n",
    "\n",
    "# Preview the data to understand its structure\n",
    "data.head()"
   ]
  },
  {
   "cell_type": "code",
   "execution_count": 2,
   "metadata": {},
   "outputs": [
    {
     "data": {
      "text/plain": [
       "(23.227272727272727, 23.0, 0.2273)"
      ]
     },
     "execution_count": 2,
     "metadata": {},
     "output_type": "execute_result"
    }
   ],
   "source": [
    "# Calculate the sample means of CPD_W6 for adherence = 1 and adherence = 0 groups\n",
    "mean_adherence_1 = data[data['adherence'] == 1]['CPD_W6'].mean()\n",
    "mean_adherence_0 = data[data['adherence'] == 0]['CPD_W6'].mean()\n",
    "\n",
    "# Calculate the difference between the sample means\n",
    "mean_difference = mean_adherence_1 - mean_adherence_0\n",
    "\n",
    "mean_adherence_1, mean_adherence_0, round(mean_difference, 4)\n"
   ]
  },
  {
   "cell_type": "markdown",
   "metadata": {},
   "source": [
    "Q2"
   ]
  },
  {
   "cell_type": "code",
   "execution_count": null,
   "metadata": {},
   "outputs": [],
   "source": []
  }
 ],
 "metadata": {
  "kernelspec": {
   "display_name": "base",
   "language": "python",
   "name": "python3"
  },
  "language_info": {
   "codemirror_mode": {
    "name": "ipython",
    "version": 3
   },
   "file_extension": ".py",
   "mimetype": "text/x-python",
   "name": "python",
   "nbconvert_exporter": "python",
   "pygments_lexer": "ipython3",
   "version": "3.12.4"
  }
 },
 "nbformat": 4,
 "nbformat_minor": 2
}
